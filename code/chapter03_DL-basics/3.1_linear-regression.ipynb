{
 "cells": [
  {
   "cell_type": "markdown",
   "metadata": {},
   "source": [
    "# 3.1 线性回归"
   ]
  },
  {
   "cell_type": "code",
   "metadata": {
    "ExecuteTime": {
     "end_time": "2024-06-07T08:47:39.802246Z",
     "start_time": "2024-06-07T08:47:38.255Z"
    }
   },
   "source": [
    "import torch\n",
    "from time import time\n",
    "\n",
    "print(torch.__version__)"
   ],
   "outputs": [
    {
     "name": "stdout",
     "output_type": "stream",
     "text": [
      "2.2.1+cu121\n"
     ]
    }
   ],
   "execution_count": 1
  },
  {
   "cell_type": "code",
   "metadata": {
    "collapsed": true,
    "ExecuteTime": {
     "end_time": "2024-06-07T09:19:04.486833Z",
     "start_time": "2024-06-07T09:19:04.481876Z"
    }
   },
   "source": [
    "a = torch.ones(1000)\n",
    "b = torch.ones(1000)"
   ],
   "outputs": [],
   "execution_count": 6
  },
  {
   "cell_type": "markdown",
   "metadata": {},
   "source": [
    "将这两个向量按元素逐一做标量加法:"
   ]
  },
  {
   "cell_type": "code",
   "metadata": {
    "ExecuteTime": {
     "end_time": "2024-06-07T09:19:06.670726Z",
     "start_time": "2024-06-07T09:19:06.656710Z"
    }
   },
   "source": [
    "start = time()\n",
    "c = torch.zeros(1000)\n",
    "for i in range(1000):\n",
    "    c[i] = a[i] + b[i]\n",
    "print(time() - start)"
   ],
   "outputs": [
    {
     "name": "stdout",
     "output_type": "stream",
     "text": [
      "0.009482145309448242\n"
     ]
    }
   ],
   "execution_count": 7
  },
  {
   "cell_type": "markdown",
   "metadata": {},
   "source": [
    "将这两个向量直接做矢量加法:"
   ]
  },
  {
   "cell_type": "code",
   "metadata": {
    "ExecuteTime": {
     "end_time": "2024-06-07T09:23:37.830837Z",
     "start_time": "2024-06-07T09:23:37.825510Z"
    }
   },
   "source": [
    "start = time()\n",
    "a=torch.ones(10000).cpu()\n",
    "b=torch.ones(10000).cpu()\n",
    "d = a + b\n",
    "# print(d)\n",
    "print(f\"{time() - start:.20f}\")\n",
    "start = time()\n",
    "a = torch.ones(10000).to(\"cuda\")\n",
    "b = torch.ones(10000).to(\"cuda\")\n",
    "d = a + b\n",
    "# print(d)\n",
    "print(f\"{time() - start:.20f}\")"
   ],
   "outputs": [
    {
     "name": "stdout",
     "output_type": "stream",
     "text": [
      "0.00099658966064453125\n",
      "0.00157141685485839844\n"
     ]
    }
   ],
   "execution_count": 22
  },
  {
   "cell_type": "markdown",
   "metadata": {},
   "source": [
    "**结果很明显，后者比前者更省时。因此，我们应该尽可能采用矢量计算，以提升计算效率。**"
   ]
  },
  {
   "cell_type": "markdown",
   "metadata": {},
   "source": [
    "广播机制例子🌰："
   ]
  },
  {
   "cell_type": "code",
   "metadata": {
    "ExecuteTime": {
     "end_time": "2024-06-07T08:47:39.832011Z",
     "start_time": "2024-06-07T08:47:39.825067Z"
    }
   },
   "source": [
    "a = torch.ones(3)\n",
    "b = 10\n",
    "print(a + b)"
   ],
   "outputs": [
    {
     "name": "stdout",
     "output_type": "stream",
     "text": [
      "tensor([11., 11., 11.])\n"
     ]
    }
   ],
   "execution_count": 5
  },
  {
   "cell_type": "code",
   "metadata": {
    "collapsed": true,
    "ExecuteTime": {
     "end_time": "2024-06-07T08:47:39.835453Z",
     "start_time": "2024-06-07T08:47:39.833020Z"
    }
   },
   "source": [],
   "outputs": [],
   "execution_count": 5
  }
 ],
 "metadata": {
  "kernelspec": {
   "display_name": "Python [default]",
   "language": "python",
   "name": "python3"
  },
  "language_info": {
   "codemirror_mode": {
    "name": "ipython",
    "version": 3
   },
   "file_extension": ".py",
   "mimetype": "text/x-python",
   "name": "python",
   "nbconvert_exporter": "python",
   "pygments_lexer": "ipython3",
   "version": "3.6.3"
  }
 },
 "nbformat": 4,
 "nbformat_minor": 2
}
